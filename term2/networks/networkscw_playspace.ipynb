{
 "cells": [
  {
   "cell_type": "code",
   "execution_count": 1,
   "metadata": {
    "collapsed": false
   },
   "outputs": [],
   "source": [
    "import osmnx as ox\n",
    "import networkx as nx\n",
    "%matplotlib inline\n",
    "ox.config(log_file=True, log_console=True, use_cache=True)"
   ]
  },
  {
   "cell_type": "code",
   "execution_count": 2,
   "metadata": {
    "collapsed": false
   },
   "outputs": [
    {
     "ename": "KeyboardInterrupt",
     "evalue": "",
     "output_type": "error",
     "traceback": [
      "\u001b[0;31m---------------------------------------------------------------------------\u001b[0m",
      "\u001b[0;31mKeyboardInterrupt\u001b[0m                         Traceback (most recent call last)",
      "\u001b[0;32m<ipython-input-2-c4689e5a47e4>\u001b[0m in \u001b[0;36m<module>\u001b[0;34m()\u001b[0m\n\u001b[1;32m      1\u001b[0m B = ox.graph_from_point((51.5222686,-0.1106871), network_type='walk', \n\u001b[0;32m----> 2\u001b[0;31m                         distance=500, distance_type ='network')\n\u001b[0m\u001b[1;32m      3\u001b[0m \u001b[0mfig\u001b[0m\u001b[0;34m,\u001b[0m \u001b[0max\u001b[0m \u001b[0;34m=\u001b[0m \u001b[0mox\u001b[0m\u001b[0;34m.\u001b[0m\u001b[0mplot_graph\u001b[0m\u001b[0;34m(\u001b[0m\u001b[0mB\u001b[0m\u001b[0;34m)\u001b[0m\u001b[0;34m\u001b[0m\u001b[0m\n",
      "\u001b[0;32m~/Documents/Coding/osmnx/osmnx/core.py\u001b[0m in \u001b[0;36mgraph_from_point\u001b[0;34m(center_point, distance, distance_type, network_type, simplify, retain_all, truncate_by_edge, name, timeout, memory, max_query_area_size, clean_periphery, infrastructure, custom_filter)\u001b[0m\n\u001b[1;32m   1574\u001b[0m                         \u001b[0mtimeout\u001b[0m\u001b[0;34m=\u001b[0m\u001b[0mtimeout\u001b[0m\u001b[0;34m,\u001b[0m \u001b[0mmemory\u001b[0m\u001b[0;34m=\u001b[0m\u001b[0mmemory\u001b[0m\u001b[0;34m,\u001b[0m \u001b[0mmax_query_area_size\u001b[0m\u001b[0;34m=\u001b[0m\u001b[0mmax_query_area_size\u001b[0m\u001b[0;34m,\u001b[0m\u001b[0;34m\u001b[0m\u001b[0m\n\u001b[1;32m   1575\u001b[0m                         \u001b[0mclean_periphery\u001b[0m\u001b[0;34m=\u001b[0m\u001b[0mclean_periphery\u001b[0m\u001b[0;34m,\u001b[0m \u001b[0minfrastructure\u001b[0m\u001b[0;34m=\u001b[0m\u001b[0minfrastructure\u001b[0m\u001b[0;34m,\u001b[0m\u001b[0;34m\u001b[0m\u001b[0m\n\u001b[0;32m-> 1576\u001b[0;31m                         custom_filter=custom_filter)\n\u001b[0m\u001b[1;32m   1577\u001b[0m \u001b[0;34m\u001b[0m\u001b[0m\n\u001b[1;32m   1578\u001b[0m     \u001b[0;31m# if the network distance_type is network, find the node in the graph\u001b[0m\u001b[0;34m\u001b[0m\u001b[0;34m\u001b[0m\u001b[0m\n",
      "\u001b[0;32m~/Documents/Coding/osmnx/osmnx/core.py\u001b[0m in \u001b[0;36mgraph_from_bbox\u001b[0;34m(north, south, east, west, network_type, simplify, retain_all, truncate_by_edge, name, timeout, memory, max_query_area_size, clean_periphery, infrastructure, custom_filter)\u001b[0m\n\u001b[1;32m   1470\u001b[0m                                           \u001b[0mmemory\u001b[0m\u001b[0;34m=\u001b[0m\u001b[0mmemory\u001b[0m\u001b[0;34m,\u001b[0m \u001b[0mmax_query_area_size\u001b[0m\u001b[0;34m=\u001b[0m\u001b[0mmax_query_area_size\u001b[0m\u001b[0;34m,\u001b[0m\u001b[0;34m\u001b[0m\u001b[0m\n\u001b[1;32m   1471\u001b[0m                                           infrastructure=infrastructure, custom_filter=custom_filter)\n\u001b[0;32m-> 1472\u001b[0;31m         \u001b[0mG_buffered\u001b[0m \u001b[0;34m=\u001b[0m \u001b[0mcreate_graph\u001b[0m\u001b[0;34m(\u001b[0m\u001b[0mresponse_jsons\u001b[0m\u001b[0;34m,\u001b[0m \u001b[0mname\u001b[0m\u001b[0;34m=\u001b[0m\u001b[0mname\u001b[0m\u001b[0;34m,\u001b[0m \u001b[0mretain_all\u001b[0m\u001b[0;34m=\u001b[0m\u001b[0mretain_all\u001b[0m\u001b[0;34m,\u001b[0m \u001b[0mnetwork_type\u001b[0m\u001b[0;34m=\u001b[0m\u001b[0mnetwork_type\u001b[0m\u001b[0;34m)\u001b[0m\u001b[0;34m\u001b[0m\u001b[0m\n\u001b[0m\u001b[1;32m   1473\u001b[0m         \u001b[0mG\u001b[0m \u001b[0;34m=\u001b[0m \u001b[0mtruncate_graph_bbox\u001b[0m\u001b[0;34m(\u001b[0m\u001b[0mG_buffered\u001b[0m\u001b[0;34m,\u001b[0m \u001b[0mnorth\u001b[0m\u001b[0;34m,\u001b[0m \u001b[0msouth\u001b[0m\u001b[0;34m,\u001b[0m \u001b[0meast\u001b[0m\u001b[0;34m,\u001b[0m \u001b[0mwest\u001b[0m\u001b[0;34m,\u001b[0m \u001b[0mretain_all\u001b[0m\u001b[0;34m=\u001b[0m\u001b[0;32mTrue\u001b[0m\u001b[0;34m,\u001b[0m \u001b[0mtruncate_by_edge\u001b[0m\u001b[0;34m=\u001b[0m\u001b[0mtruncate_by_edge\u001b[0m\u001b[0;34m)\u001b[0m\u001b[0;34m\u001b[0m\u001b[0m\n\u001b[1;32m   1474\u001b[0m \u001b[0;34m\u001b[0m\u001b[0m\n",
      "\u001b[0;32m~/Documents/Coding/osmnx/osmnx/core.py\u001b[0m in \u001b[0;36mcreate_graph\u001b[0;34m(response_jsons, name, retain_all, network_type)\u001b[0m\n\u001b[1;32m   1354\u001b[0m     \u001b[0;31m# use as weight\u001b[0m\u001b[0;34m\u001b[0m\u001b[0;34m\u001b[0m\u001b[0m\n\u001b[1;32m   1355\u001b[0m     \u001b[0;32mif\u001b[0m \u001b[0mlen\u001b[0m\u001b[0;34m(\u001b[0m\u001b[0mG\u001b[0m\u001b[0;34m.\u001b[0m\u001b[0medges\u001b[0m\u001b[0;34m)\u001b[0m \u001b[0;34m>\u001b[0m \u001b[0;36m0\u001b[0m\u001b[0;34m:\u001b[0m\u001b[0;34m\u001b[0m\u001b[0m\n\u001b[0;32m-> 1356\u001b[0;31m         \u001b[0mG\u001b[0m \u001b[0;34m=\u001b[0m \u001b[0madd_edge_lengths\u001b[0m\u001b[0;34m(\u001b[0m\u001b[0mG\u001b[0m\u001b[0;34m)\u001b[0m\u001b[0;34m\u001b[0m\u001b[0m\n\u001b[0m\u001b[1;32m   1357\u001b[0m \u001b[0;34m\u001b[0m\u001b[0m\n\u001b[1;32m   1358\u001b[0m     \u001b[0;32mreturn\u001b[0m \u001b[0mG\u001b[0m\u001b[0;34m\u001b[0m\u001b[0m\n",
      "\u001b[0;32m~/Documents/Coding/osmnx/osmnx/core.py\u001b[0m in \u001b[0;36madd_edge_lengths\u001b[0;34m(G)\u001b[0m\n\u001b[1;32m   1201\u001b[0m     \u001b[0;31m# fill nulls with zeros and round to the millimeter\u001b[0m\u001b[0;34m\u001b[0m\u001b[0;34m\u001b[0m\u001b[0m\n\u001b[1;32m   1202\u001b[0m     \u001b[0mgc_distances\u001b[0m \u001b[0;34m=\u001b[0m \u001b[0mgc_distances\u001b[0m\u001b[0;34m.\u001b[0m\u001b[0mfillna\u001b[0m\u001b[0;34m(\u001b[0m\u001b[0mvalue\u001b[0m\u001b[0;34m=\u001b[0m\u001b[0;36m0\u001b[0m\u001b[0;34m)\u001b[0m\u001b[0;34m.\u001b[0m\u001b[0mround\u001b[0m\u001b[0;34m(\u001b[0m\u001b[0;36m3\u001b[0m\u001b[0;34m)\u001b[0m\u001b[0;34m\u001b[0m\u001b[0m\n\u001b[0;32m-> 1203\u001b[0;31m     \u001b[0mnx\u001b[0m\u001b[0;34m.\u001b[0m\u001b[0mset_edge_attributes\u001b[0m\u001b[0;34m(\u001b[0m\u001b[0mG\u001b[0m\u001b[0;34m,\u001b[0m \u001b[0mname\u001b[0m\u001b[0;34m=\u001b[0m\u001b[0;34m'length'\u001b[0m\u001b[0;34m,\u001b[0m \u001b[0mvalues\u001b[0m\u001b[0;34m=\u001b[0m\u001b[0mgc_distances\u001b[0m\u001b[0;34m.\u001b[0m\u001b[0mto_dict\u001b[0m\u001b[0;34m(\u001b[0m\u001b[0;34m)\u001b[0m\u001b[0;34m)\u001b[0m\u001b[0;34m\u001b[0m\u001b[0m\n\u001b[0m\u001b[1;32m   1204\u001b[0m \u001b[0;34m\u001b[0m\u001b[0m\n\u001b[1;32m   1205\u001b[0m     \u001b[0mlog\u001b[0m\u001b[0;34m(\u001b[0m\u001b[0;34m'Added edge lengths to graph in {:,.2f} seconds'\u001b[0m\u001b[0;34m.\u001b[0m\u001b[0mformat\u001b[0m\u001b[0;34m(\u001b[0m\u001b[0mtime\u001b[0m\u001b[0;34m.\u001b[0m\u001b[0mtime\u001b[0m\u001b[0;34m(\u001b[0m\u001b[0;34m)\u001b[0m\u001b[0;34m-\u001b[0m\u001b[0mstart_time\u001b[0m\u001b[0;34m)\u001b[0m\u001b[0;34m)\u001b[0m\u001b[0;34m\u001b[0m\u001b[0m\n",
      "\u001b[0;32m~/anaconda/envs/OSMNX/lib/python3.6/site-packages/networkx/classes/function.py\u001b[0m in \u001b[0;36mset_edge_attributes\u001b[0;34m(G, values, name)\u001b[0m\n\u001b[1;32m    753\u001b[0m             \u001b[0;31m# if `values` is a dict using `.items()` => {edge: value}\u001b[0m\u001b[0;34m\u001b[0m\u001b[0;34m\u001b[0m\u001b[0m\n\u001b[1;32m    754\u001b[0m             \u001b[0;32mif\u001b[0m \u001b[0mG\u001b[0m\u001b[0;34m.\u001b[0m\u001b[0mis_multigraph\u001b[0m\u001b[0;34m(\u001b[0m\u001b[0;34m)\u001b[0m\u001b[0;34m:\u001b[0m\u001b[0;34m\u001b[0m\u001b[0m\n\u001b[0;32m--> 755\u001b[0;31m                 \u001b[0;32mfor\u001b[0m \u001b[0;34m(\u001b[0m\u001b[0mu\u001b[0m\u001b[0;34m,\u001b[0m \u001b[0mv\u001b[0m\u001b[0;34m,\u001b[0m \u001b[0mkey\u001b[0m\u001b[0;34m)\u001b[0m\u001b[0;34m,\u001b[0m \u001b[0mvalue\u001b[0m \u001b[0;32min\u001b[0m \u001b[0mvalues\u001b[0m\u001b[0;34m.\u001b[0m\u001b[0mitems\u001b[0m\u001b[0;34m(\u001b[0m\u001b[0;34m)\u001b[0m\u001b[0;34m:\u001b[0m\u001b[0;34m\u001b[0m\u001b[0m\n\u001b[0m\u001b[1;32m    756\u001b[0m                     \u001b[0;32mtry\u001b[0m\u001b[0;34m:\u001b[0m\u001b[0;34m\u001b[0m\u001b[0m\n\u001b[1;32m    757\u001b[0m                         \u001b[0mG\u001b[0m\u001b[0;34m[\u001b[0m\u001b[0mu\u001b[0m\u001b[0;34m]\u001b[0m\u001b[0;34m[\u001b[0m\u001b[0mv\u001b[0m\u001b[0;34m]\u001b[0m\u001b[0;34m[\u001b[0m\u001b[0mkey\u001b[0m\u001b[0;34m]\u001b[0m\u001b[0;34m[\u001b[0m\u001b[0mname\u001b[0m\u001b[0;34m]\u001b[0m \u001b[0;34m=\u001b[0m \u001b[0mvalue\u001b[0m\u001b[0;34m\u001b[0m\u001b[0m\n",
      "\u001b[0;31mKeyboardInterrupt\u001b[0m: "
     ]
    }
   ],
   "source": [
    "B = ox.graph_from_point((51.5222686,-0.1106871), network_type='walk', \n",
    "                        distance=500, distance_type ='network')\n",
    "fig, ax = ox.plot_graph(B)"
   ]
  },
  {
   "cell_type": "code",
   "execution_count": null,
   "metadata": {
    "collapsed": false
   },
   "outputs": [],
   "source": [
    "\n",
    "url = ox.request_url(lat,lon,50)\n",
    "ox.match_request(url)"
   ]
  },
  {
   "cell_type": "code",
   "execution_count": null,
   "metadata": {
    "collapsed": false
   },
   "outputs": [],
   "source": [
    "address = '6 Vine Hill, London'\n",
    "G = ox.graph_from_address(address, network_type='walk', \n",
    "                        distance=5000, distance_type ='network')\n",
    "G_proj = ox.project_graph(G)\n",
    "fig, ax = ox.plot_graph(G_proj)"
   ]
  },
  {
   "cell_type": "code",
   "execution_count": null,
   "metadata": {
    "collapsed": false
   },
   "outputs": [],
   "source": [
    "A = nx.adjacency_matrix(B)\n",
    "print(A.todense())"
   ]
  },
  {
   "cell_type": "code",
   "execution_count": null,
   "metadata": {
    "collapsed": false
   },
   "outputs": [],
   "source": [
    "nx.degree_histogram(G)"
   ]
  },
  {
   "cell_type": "code",
   "execution_count": null,
   "metadata": {
    "collapsed": false
   },
   "outputs": [],
   "source": [
    "B.edges"
   ]
  },
  {
   "cell_type": "code",
   "execution_count": null,
   "metadata": {
    "collapsed": false
   },
   "outputs": [],
   "source": [
    "print(nx.shortest_path_length(B, source=415774755, target=237900))"
   ]
  },
  {
   "cell_type": "code",
   "execution_count": null,
   "metadata": {
    "collapsed": false
   },
   "outputs": [],
   "source": [
    "len(B.nodes)"
   ]
  },
  {
   "cell_type": "code",
   "execution_count": null,
   "metadata": {
    "collapsed": false
   },
   "outputs": [],
   "source": [
    "c = nx.attr_matrix(B)"
   ]
  },
  {
   "cell_type": "code",
   "execution_count": null,
   "metadata": {
    "collapsed": false
   },
   "outputs": [],
   "source": [
    "c[0][1,1]"
   ]
  },
  {
   "cell_type": "code",
   "execution_count": null,
   "metadata": {
    "collapsed": false
   },
   "outputs": [],
   "source": [
    "ox.stats.basic_stats(B)"
   ]
  },
  {
   "cell_type": "code",
   "execution_count": null,
   "metadata": {
    "collapsed": false
   },
   "outputs": [],
   "source": [
    "C = ox.core.add_edge_lengths(B)"
   ]
  },
  {
   "cell_type": "code",
   "execution_count": null,
   "metadata": {
    "collapsed": false
   },
   "outputs": [],
   "source": [
    "type(C.edges)"
   ]
  },
  {
   "cell_type": "code",
   "execution_count": null,
   "metadata": {
    "collapsed": false
   },
   "outputs": [],
   "source": [
    "list(C.edges())"
   ]
  },
  {
   "cell_type": "code",
   "execution_count": null,
   "metadata": {
    "collapsed": false
   },
   "outputs": [],
   "source": [
    "# access information about edge, including ID, location, length (in m), etc\n",
    "# third index accounts for multiple edges between the same nodes - basically all 0 for this case\n",
    "print(C.edges[5562142702, 18692415, 0])\n",
    "print(C.edges[5562142702, 18692415, 0]['length'])"
   ]
  },
  {
   "cell_type": "code",
   "execution_count": null,
   "metadata": {
    "collapsed": false
   },
   "outputs": [],
   "source": [
    "print(C.nodes[415774755])"
   ]
  },
  {
   "cell_type": "code",
   "execution_count": null,
   "metadata": {
    "collapsed": true
   },
   "outputs": [],
   "source": [
    "# create route from node ids and visualize\n",
    "orig_node = 5562142702\n",
    "dest_node = 107894\n",
    "route = nx.shortest_path(B, orig_node, dest_node, weight='length')\n",
    "route2 = nx.shortest_path(B, orig_node, 1697813677, weight='length')"
   ]
  },
  {
   "cell_type": "code",
   "execution_count": null,
   "metadata": {
    "collapsed": false
   },
   "outputs": [],
   "source": [
    "route\n",
    "# looks like route is just a list of nodes"
   ]
  },
  {
   "cell_type": "code",
   "execution_count": null,
   "metadata": {
    "collapsed": false
   },
   "outputs": [],
   "source": [
    "fig, ax = ox.plot_graph_route(B, [route, route2], node_size=0)"
   ]
  },
  {
   "cell_type": "code",
   "execution_count": null,
   "metadata": {
    "collapsed": true
   },
   "outputs": [],
   "source": []
  },
  {
   "cell_type": "code",
   "execution_count": null,
   "metadata": {
    "collapsed": false
   },
   "outputs": [],
   "source": [
    "# for every edge, increase the \"visits\" iterator by one if it has been visited by a GPX track\n",
    "B.edges[5562142702,109939,0]['visits'] = 1"
   ]
  },
  {
   "cell_type": "code",
   "execution_count": null,
   "metadata": {
    "collapsed": false
   },
   "outputs": [],
   "source": [
    "B.edges[5562142702,109939,0]"
   ]
  },
  {
   "cell_type": "code",
   "execution_count": null,
   "metadata": {
    "collapsed": true
   },
   "outputs": [],
   "source": [
    "B.edges[5562142702,109939,0]['visits'] +=1"
   ]
  },
  {
   "cell_type": "code",
   "execution_count": null,
   "metadata": {
    "collapsed": false
   },
   "outputs": [],
   "source": [
    "B.edges[(5562142702,109939,0)]"
   ]
  },
  {
   "cell_type": "code",
   "execution_count": null,
   "metadata": {
    "collapsed": true
   },
   "outputs": [],
   "source": [
    "r = [[],34]"
   ]
  },
  {
   "cell_type": "code",
   "execution_count": null,
   "metadata": {
    "collapsed": false
   },
   "outputs": [],
   "source": [
    "type(r)"
   ]
  },
  {
   "cell_type": "code",
   "execution_count": null,
   "metadata": {
    "collapsed": false
   },
   "outputs": [],
   "source": [
    "# determine if list of lists\n",
    "any(isinstance(el, list) for el in r)"
   ]
  },
  {
   "cell_type": "code",
   "execution_count": null,
   "metadata": {
    "collapsed": true
   },
   "outputs": [],
   "source": [
    "for i in range(0):\n",
    "    print(i)"
   ]
  },
  {
   "cell_type": "code",
   "execution_count": null,
   "metadata": {
    "collapsed": false
   },
   "outputs": [],
   "source": [
    "len(r)"
   ]
  },
  {
   "cell_type": "code",
   "execution_count": null,
   "metadata": {
    "collapsed": false
   },
   "outputs": [],
   "source": [
    "k = []\n",
    "n = [k]\n",
    "n"
   ]
  },
  {
   "cell_type": "code",
   "execution_count": null,
   "metadata": {
    "collapsed": false
   },
   "outputs": [],
   "source": [
    "gpx_file = open('alltrax/20170914094943.gpx', 'r')\n",
    "ox.parse_gpx('alltrax/20170914094943.gpx')"
   ]
  },
  {
   "cell_type": "code",
   "execution_count": null,
   "metadata": {
    "collapsed": false
   },
   "outputs": [],
   "source": [
    "type(gpx_file)"
   ]
  },
  {
   "cell_type": "code",
   "execution_count": null,
   "metadata": {
    "collapsed": false
   },
   "outputs": [],
   "source": [
    "import gpxpy\n",
    "import datetime"
   ]
  },
  {
   "cell_type": "code",
   "execution_count": null,
   "metadata": {
    "collapsed": true
   },
   "outputs": [],
   "source": [
    "gpx = gpxpy.parse(gpx_file)"
   ]
  },
  {
   "cell_type": "code",
   "execution_count": null,
   "metadata": {
    "collapsed": false
   },
   "outputs": [],
   "source": [
    "gpx"
   ]
  },
  {
   "cell_type": "code",
   "execution_count": null,
   "metadata": {
    "collapsed": false
   },
   "outputs": [],
   "source": [
    "lat = []\n",
    "lon = []\n",
    "time = []\n",
    "for track in gpx.tracks:\n",
    "    for segment in track.segments:\n",
    "        for point in segment.points:\n",
    "            lat.append(point.latitude)\n",
    "            lon.append(point.longitude)\n",
    "            time.append(point.time)\n",
    "            "
   ]
  },
  {
   "cell_type": "code",
   "execution_count": null,
   "metadata": {
    "collapsed": false
   },
   "outputs": [],
   "source": [
    "datetime.timestamp(point.time)"
   ]
  },
  {
   "cell_type": "code",
   "execution_count": null,
   "metadata": {
    "collapsed": true
   },
   "outputs": [],
   "source": [
    "b = []\n",
    "b.append('yes')"
   ]
  },
  {
   "cell_type": "code",
   "execution_count": null,
   "metadata": {
    "collapsed": false
   },
   "outputs": [],
   "source": [
    "b"
   ]
  },
  {
   "cell_type": "code",
   "execution_count": null,
   "metadata": {
    "collapsed": false
   },
   "outputs": [],
   "source": [
    "b.append(5)\n",
    "b"
   ]
  },
  {
   "cell_type": "code",
   "execution_count": null,
   "metadata": {
    "collapsed": true
   },
   "outputs": [],
   "source": [
    "def request_url(lat, lon, maxpoints=len(lat)):\n",
    "    \"\"\"\n",
    "    Convert lat and lon to a url query string.\n",
    "\n",
    "    Converts lat and lon to a query string using osrm router.\n",
    "\n",
    "    Parameters\n",
    "    ----------\n",
    "    lat : list\n",
    "        ordered list of all latitudes\n",
    "    lon : list\n",
    "        ordered list of all longitudes\n",
    "    maxpoints: int\n",
    "        maximum number of points to be included, defaults to all\n",
    "\n",
    "    Returns\n",
    "    -------\n",
    "    url : string\n",
    "        query url to be used for osrm routing\n",
    "    \"\"\"\n",
    "    # how many points should we include? can we include all of them?\n",
    "    baseurl = 'http://router.project-osrm.org/match/v1/walking/'\n",
    "    options = '?overview=full&annotations=true'\n",
    "\n",
    "    coords = ''\n",
    "    # pick every nth coordinate up to maxpoints\n",
    "    npoints = len(lat) % maxpoints\n",
    "    point_interval = int(len(lat)/max(npoints,1))\n",
    "    for i in range(npoints):\n",
    "        coords += str(lon[i*point_interval]) + ',' + str(lat[i*point_interval]) + ';'\n",
    "\n",
    "    return baseurl + coords[:-1] + options"
   ]
  },
  {
   "cell_type": "code",
   "execution_count": null,
   "metadata": {
    "collapsed": true
   },
   "outputs": [],
   "source": [
    "def match_request(url, pause_duration=None, timeout=180, error_pause_duration=None):\n",
    "    \"\"\"\n",
    "    Send a request to the Overpass API via HTTP POST and return the JSON\n",
    "    response.\n",
    "\n",
    "    Parameters\n",
    "    ----------\n",
    "    data : dict or OrderedDict\n",
    "        key-value pairs of parameters to post to the API\n",
    "    pause_duration : int\n",
    "        how long to pause in seconds before requests, if None, will query API\n",
    "        status endpoint to find when next slot is available\n",
    "    timeout : int\n",
    "        the timeout interval for the requests library\n",
    "    error_pause_duration : int\n",
    "        how long to pause in seconds before re-trying requests if error\n",
    "\n",
    "    Returns\n",
    "    -------\n",
    "    dict\n",
    "    \"\"\"\n",
    "\n",
    "    # define the Overpass API URL, then construct a GET-style URL as a string to\n",
    "    # hash to look up/save to cache\n",
    "    prepared_url = requests.Request('GET', url).prepare().url\n",
    "    cached_response_json = get_from_cache(prepared_url)\n",
    "\n",
    "    if cached_response_json is not None:\n",
    "        # found this request in the cache, just return it instead of making a\n",
    "        # new HTTP call\n",
    "        return cached_response_json\n",
    "\n",
    "    else:\n",
    "        # if this URL is not already in the cache, pause, then request it\n",
    "        if pause_duration is None:\n",
    "            this_pause_duration = get_pause_duration()\n",
    "        log('Pausing {:,.2f} seconds before making API GET request'.format(this_pause_duration))\n",
    "        time.sleep(this_pause_duration)\n",
    "        start_time = time.time()\n",
    "        log('Posting to {} with timeout={}, \"{}\"'.format(url, timeout, data))\n",
    "        response = requests.post(url, data=data, timeout=timeout, headers=get_http_headers())\n",
    "\n",
    "        # get the response size and the domain, log result\n",
    "        size_kb = len(response.content) / 1000.\n",
    "        domain = re.findall(r'//(?s)(.*?)/', url)[0]\n",
    "        log('Downloaded {:,.1f}KB from {} in {:,.2f} seconds'.format(size_kb, domain, time.time()-start_time))\n",
    "\n",
    "        try:\n",
    "            response_json = response.json()\n",
    "            if 'remark' in response_json:\n",
    "                log('Server remark: \"{}\"'.format(response_json['remark'], level=lg.WARNING))\n",
    "            save_to_cache(prepared_url, response_json)\n",
    "        except Exception:\n",
    "            #429 is 'too many requests' and 504 is 'gateway timeout' from server\n",
    "            # overload - handle these errors by recursively calling\n",
    "            # overpass_request until we get a valid response\n",
    "            if response.status_code in [429, 504]:\n",
    "                # pause for error_pause_duration seconds before re-trying request\n",
    "                if error_pause_duration is None:\n",
    "                    error_pause_duration = get_pause_duration()\n",
    "                log('Server at {} returned status code {} and no JSON data. Re-trying request in {:.2f} seconds.'.format(domain,\n",
    "                                                                                                                         response.status_code,\n",
    "                                                                                                                         error_pause_duration),\n",
    "                                                                                                                         level=lg.WARNING)\n",
    "                time.sleep(error_pause_duration)\n",
    "                response_json = overpass_request(data=data, pause_duration=pause_duration, timeout=timeout)\n",
    "\n",
    "            # else, this was an unhandled status_code, throw an exception\n",
    "            else:\n",
    "                log('Server at {} returned status code {} and no JSON data'.format(domain, response.status_code), level=lg.ERROR)\n",
    "                raise Exception('Server returned no JSON data.\\n{} {}\\n{}'.format(response, response.reason, response.text))\n",
    "\n",
    "            return response_json"
   ]
  },
  {
   "cell_type": "code",
   "execution_count": null,
   "metadata": {
    "collapsed": false
   },
   "outputs": [],
   "source": [
    "url = ox.gpx.request_url(lat,lon,50)\n",
    "ox.gpx.match_request(url)"
   ]
  },
  {
   "cell_type": "code",
   "execution_count": null,
   "metadata": {
    "collapsed": false
   },
   "outputs": [],
   "source": [
    "import requests\n",
    "import json\n",
    "response = requests.get(url)\n",
    "rdict = response.json()\n",
    "rdict[\"matchings\"][1]['legs']"
   ]
  },
  {
   "cell_type": "code",
   "execution_count": null,
   "metadata": {
    "collapsed": false
   },
   "outputs": [],
   "source": [
    "rdict[\"matchings\"][0]['legs']"
   ]
  },
  {
   "cell_type": "code",
   "execution_count": null,
   "metadata": {
    "collapsed": false
   },
   "outputs": [],
   "source": [
    "response.text"
   ]
  },
  {
   "cell_type": "code",
   "execution_count": null,
   "metadata": {
    "collapsed": false
   },
   "outputs": [],
   "source": [
    "int(len(lat)/m)"
   ]
  },
  {
   "cell_type": "code",
   "execution_count": null,
   "metadata": {
    "collapsed": true
   },
   "outputs": [],
   "source": [
    "freq = {(1,2,0):5}"
   ]
  },
  {
   "cell_type": "code",
   "execution_count": null,
   "metadata": {
    "collapsed": false
   },
   "outputs": [],
   "source": [
    "key = (1,4,0)\n",
    "if key in freq:\n",
    "    freq[key] += 1\n",
    "else:\n",
    "    freq[key] = 1"
   ]
  },
  {
   "cell_type": "code",
   "execution_count": null,
   "metadata": {
    "collapsed": false
   },
   "outputs": [],
   "source": [
    "freq"
   ]
  },
  {
   "cell_type": "code",
   "execution_count": null,
   "metadata": {
    "collapsed": true
   },
   "outputs": [],
   "source": [
    "import os"
   ]
  },
  {
   "cell_type": "code",
   "execution_count": null,
   "metadata": {
    "collapsed": false,
    "scrolled": true
   },
   "outputs": [],
   "source": [
    "os.fullpath.listdir(\"/Users/heidihurst/Documents/UK/ucl-gis/ucl_msc/term2/networks/alltrax\")"
   ]
  },
  {
   "cell_type": "code",
   "execution_count": null,
   "metadata": {
    "collapsed": false
   },
   "outputs": [],
   "source": [
    "# identify edges adjacent to node\n",
    "import osmnx as ox\n",
    "import networkx as nx\n",
    "B = ox.graph_from_point((51.5222686,-0.1106871), network_type='walk', \n",
    "                        distance=500, distance_type ='network')\n",
    "fig, ax = ox.plot_graph(B)\n",
    "type(B)"
   ]
  },
  {
   "cell_type": "code",
   "execution_count": null,
   "metadata": {
    "collapsed": false
   },
   "outputs": [],
   "source": [
    "B.node[415774755]"
   ]
  },
  {
   "cell_type": "code",
   "execution_count": null,
   "metadata": {
    "collapsed": false
   },
   "outputs": [],
   "source": [
    "type(ox.get_nearest_node(B, (51.5208513,-0.1148912)))"
   ]
  },
  {
   "cell_type": "code",
   "execution_count": null,
   "metadata": {
    "collapsed": false
   },
   "outputs": [],
   "source": [
    "bob = nx.all_neighbors(B, 5484235162)\n",
    "edges = [(5484235162, neighbor, 0) for neighbor in nx.all_neighbors(B, 5484235162)]\n",
    "print(edges)\n",
    "print(B[5484235164][5484235162][0])\n",
    "print(B[5484235162][5484235164][0]['length'])"
   ]
  },
  {
   "cell_type": "markdown",
   "metadata": {
    "collapsed": true
   },
   "source": [
    "## Path Algorithm\n",
    "#### Part one: out\n",
    "Steps:\n",
    "- identify current node\n",
    "- evaluate all potential edges\n",
    "- select next node based on edges\n",
    "    - edge evaluation functions\n",
    "- set next node as current node\n",
    "- increment run length by current edge length\n",
    "- repeat\n",
    "- end condition: run length reaches certain threshold\n",
    "\n",
    "#### Part two: back\n",
    "- Steps"
   ]
  },
  {
   "cell_type": "code",
   "execution_count": null,
   "metadata": {
    "collapsed": false
   },
   "outputs": [],
   "source": [
    "next_outbound_node(B,5484235162)"
   ]
  },
  {
   "cell_type": "code",
   "execution_count": null,
   "metadata": {
    "collapsed": true
   },
   "outputs": [],
   "source": [
    "def test_function(x, function = lambda x: min(x)):\n",
    "    return function(x)"
   ]
  },
  {
   "cell_type": "code",
   "execution_count": null,
   "metadata": {
    "collapsed": false
   },
   "outputs": [],
   "source": [
    "test_function([5,1,4], function = lambda k: max(k))"
   ]
  },
  {
   "cell_type": "code",
   "execution_count": null,
   "metadata": {
    "collapsed": false
   },
   "outputs": [],
   "source": [
    "def evaluate_edges(graph, route, freq={}, eval_function=lambda x: x['length'], *args, **kwargs):\n",
    "    # get all neighbors of current node\n",
    "    current_node = route[-1]\n",
    "    # edges = [(current_node, neighbor, 0) for neighbor in nx.all_neighbors(graph, current_node)]\n",
    "\n",
    "    # get all neighbors\n",
    "    neighbors = [neighbor for neighbor in nx.all_neighbors(graph, current_node)]\n",
    "    neighbors = list(set(neighbors))\n",
    "    # ensure that you cannot revisit the previous node\n",
    "    #print(neighbors)\n",
    "    if len(route) > 1:\n",
    "        previous_node = route[-2]\n",
    "        #print(previous_node)\n",
    "        neighbors = [x for x in neighbors if x != previous_node]\n",
    "            \n",
    "    #print(neighbors)\n",
    "    \n",
    "    # remove neighbor nodes that are dead ends\n",
    "    for neighbor in neighbors:\n",
    "        nneighbor = [neighbor for neighbor in nx.all_neighbors(graph, neighbor)]\n",
    "        if len(set(nneighbor)) == 1:\n",
    "            neighbors.remove(neighbor)\n",
    "\n",
    "    # initialize suitability list\n",
    "    suitability = []\n",
    "\n",
    "    # for each neighbor, query edge attributes\n",
    "    for neighbor in neighbors:\n",
    "        # initialize attribute dictionary\n",
    "        attributes = dict()\n",
    "        # road length\n",
    "        attributes['length'] = graph[current_node][neighbor][0]['length']\n",
    "\n",
    "        # frequency\n",
    "        attributes['frequency'] = 0\n",
    "        if (current_node, neighbor, 0) in freq.keys():\n",
    "            attributes['frequency'] += freq[(current_node, neighbor, 0)]\n",
    "        elif (neighbor, current_node, 0) in freq.keys():\n",
    "            attributes['frequency'] += freq[(neighbor, current_node, 0)]\n",
    "\n",
    "        # bearings\n",
    "        if len(route) > 1:\n",
    "            attributes['previous_bearing'] = graph[previous_node][current_node][0]['bearing']\n",
    "        else:\n",
    "            attributes['previous_bearing'] = None\n",
    "        attributes['next_bearing'] = graph[current_node][neighbor][0]['bearing']\n",
    "        #attributes['home_bearing'] =\n",
    "\n",
    "        # has it been traveled before?\n",
    "        attributes['traveled'] = (current_node, neighbor) in zip(route, route[1:])\n",
    "        \n",
    "        # append suitability to list\n",
    "        suitability.append(eval_function(attributes))\n",
    "\n",
    "        # select node with optimized suitability\n",
    "        next_node = neighbors[suitability.index(min(suitability))]\n",
    "        \n",
    "        print(attributes)\n",
    "\n",
    "    return next_node\n",
    "\n",
    "def inbound_optimization(attributes={}):\n",
    "    \n",
    "    suitability = attributes['traveled'] * attributes['length']\n",
    "\n",
    "    return suitability\n",
    "\n",
    "def next_inbound_node(graph, route, freq={}, *args, **kwargs):\n",
    "    # call evaluate edges with inbound node parameters?\n",
    "    next_node = evaluate_edges(graph=graph, route=route, freq=freq, eval_function=inbound_optimization)\n",
    "\n",
    "    return next_node\n"
   ]
  },
  {
   "cell_type": "code",
   "execution_count": null,
   "metadata": {
    "collapsed": false
   },
   "outputs": [],
   "source": [
    "ox.add_edge_bearings(B)\n",
    "B[5484235162][5484235164][0]['bearing']\n",
    "#evaluate_edges(B,[5484235162,5484235164])"
   ]
  },
  {
   "cell_type": "code",
   "execution_count": null,
   "metadata": {
    "collapsed": false
   },
   "outputs": [],
   "source": [
    "next_inbound_node(B,[5484235162,5484235164])"
   ]
  },
  {
   "cell_type": "code",
   "execution_count": null,
   "metadata": {
    "collapsed": false
   },
   "outputs": [],
   "source": [
    "import time\n",
    "def generate_route(lat, lon, goal_length, tolerance=0.5, length_unit='km', freq={}, *args, **kwargs):\n",
    "    # \n",
    "    start_time = time.time()\n",
    "    \n",
    "    # convert km to meters\n",
    "    if length_unit == 'km':\n",
    "        goal_length = 1000 * goal_length\n",
    "        tolerance = 1000 * tolerance\n",
    "\n",
    "    # get graph of area\n",
    "    # TODO: modify to load from point id?\n",
    "    streets = ox.graph_from_point((lat, lon), distance=goal_length/1.75)\n",
    "    # add length attribute to all nodes\n",
    "    ox.add_edge_lengths(streets)\n",
    "    ox.add_edge_bearings(streets)\n",
    "    # get start node\n",
    "    start_node = ox.get_nearest_node(streets, (lat, lon))\n",
    "\n",
    "    # setup\n",
    "    route_length = 0\n",
    "    route = [start_node]\n",
    "\n",
    "    # outbound portion\n",
    "#    while route_length < goal_length/2:\n",
    "#        # select next node based on optimization function\n",
    "#        next_node = next_outbound_node(streets, route, freq, *args, **kwargs)\n",
    "#        # augment route length\n",
    "#        route_length += streets[route[-1]][next_node]['length']\n",
    "#        # add new node to route\n",
    "#        route.append(next_node)\n",
    "\n",
    "    # inbound portion (return)\n",
    "#    while route[-1] != start_node and route_length < goal_length - tolerance:\n",
    "    i = 2\n",
    "    while route_length < goal_length - tolerance:\n",
    "        # ox.log('Searching for node number {} from current node id {}'.format(i, route[-1]))\n",
    "        print(route)\n",
    "        i += 1\n",
    "        # select node based on inbound optimization function\n",
    "        next_node = next_inbound_node(streets, route, freq, *args, **kwargs)\n",
    "        # augment route length\n",
    "        route_length += streets[route[-1]][next_node][0]['length']\n",
    "        # add new node to route\n",
    "        route.append(next_node)\n",
    "\n",
    "        # prevent function for running forever\n",
    "        if route_length > goal_length + tolerance:\n",
    "            ox.log('Unable to find route of length {} {} for start node {} with tolerance {}.  Process took {:.2f} seconds'.format(goal_length,\n",
    "                                                                                                  length_unit,\n",
    "                                                                                                  start_node,\n",
    "                                                                                                  tolerance,\n",
    "                                                                                                                          time.time()-start_time),\n",
    "                level=lg.WARNING)\n",
    "            route = [start_node]\n",
    "            break\n",
    "\n",
    "    ox.log('Found route of length {:.0f}m in {:.2f} seconds'.format(route_length, time.time()-start_time))\n",
    "    return route"
   ]
  },
  {
   "cell_type": "code",
   "execution_count": null,
   "metadata": {
    "collapsed": false
   },
   "outputs": [],
   "source": [
    "newroute = ox.generate_route(51.5208513, -0.1148912, 1)"
   ]
  },
  {
   "cell_type": "code",
   "execution_count": null,
   "metadata": {
    "collapsed": false
   },
   "outputs": [],
   "source": [
    "newroute"
   ]
  },
  {
   "cell_type": "code",
   "execution_count": null,
   "metadata": {
    "collapsed": false
   },
   "outputs": [],
   "source": [
    "test_streets = ox.graph_from_point((51.5208513, -0.1148912), distance=400)\n",
    "fig, ax = ox.plot_graph_route(test_streets, newroute, node_size=0)"
   ]
  },
  {
   "cell_type": "code",
   "execution_count": null,
   "metadata": {
    "collapsed": false
   },
   "outputs": [],
   "source": [
    "streets = ox.graph_from_point((51.5208513, -0.1148912), distance=2500)\n",
    "    # add length attribute to all nodes\n",
    "ox.add_edge_lengths(streets)\n",
    "ox.add_edge_bearings(streets)\n",
    "\n",
    "streets[415774755][251347820][0]"
   ]
  },
  {
   "cell_type": "code",
   "execution_count": null,
   "metadata": {
    "collapsed": false
   },
   "outputs": [],
   "source": [
    "b = ['a','b']\n",
    "print(b)\n",
    "b.remove('b')\n",
    "print(b)"
   ]
  },
  {
   "cell_type": "code",
   "execution_count": null,
   "metadata": {
    "collapsed": false
   },
   "outputs": [],
   "source": [
    "nx.degree(streets,415775189)"
   ]
  },
  {
   "cell_type": "code",
   "execution_count": null,
   "metadata": {
    "collapsed": false
   },
   "outputs": [],
   "source": [
    "test = [415774755, 415774877, 415775189, 415774877, 415775189, 415774755, 415774877]\n",
    "[x for x in test if x != 415774877]\n",
    "search(test,[415774755, 415774877])"
   ]
  },
  {
   "cell_type": "code",
   "execution_count": null,
   "metadata": {
    "collapsed": false
   },
   "outputs": [],
   "source": [
    "streets[415775463]"
   ]
  },
  {
   "cell_type": "code",
   "execution_count": null,
   "metadata": {
    "collapsed": false
   },
   "outputs": [],
   "source": [
    "for neighbor in nx.all_neighbors(streets, 415775463):\n",
    "    print(neighbor)\n",
    "print(nx.degree(streets,415775463))"
   ]
  },
  {
   "cell_type": "code",
   "execution_count": null,
   "metadata": {
    "collapsed": false
   },
   "outputs": [],
   "source": [
    "for neighbor in nx.all_neighbors(streets, 415775189):\n",
    "    print(neighbor)\n",
    "print(nx.degree(streets,415775189))"
   ]
  },
  {
   "cell_type": "code",
   "execution_count": null,
   "metadata": {
    "collapsed": false
   },
   "outputs": [],
   "source": [
    "set(test)"
   ]
  },
  {
   "cell_type": "code",
   "execution_count": null,
   "metadata": {
    "collapsed": false
   },
   "outputs": [],
   "source": [
    "list(set(test))"
   ]
  },
  {
   "cell_type": "code",
   "execution_count": null,
   "metadata": {
    "collapsed": false
   },
   "outputs": [],
   "source": [
    "(415774755, 1) in zip(test, test[1:])"
   ]
  },
  {
   "cell_type": "code",
   "execution_count": null,
   "metadata": {
    "collapsed": false
   },
   "outputs": [],
   "source": [
    "test = [1] * 10\n",
    "print('testing {}'.format(test))"
   ]
  },
  {
   "cell_type": "markdown",
   "metadata": {},
   "source": [
    "|Attempting|A|Table|\n",
    "|----------|:----:|----|\n",
    "|hello there| ![Image from desktop](images/IMG_3108.jpg)| `also`|"
   ]
  },
  {
   "cell_type": "markdown",
   "metadata": {},
   "source": [
    "![Image from desktop](IMG_3108.jpg)"
   ]
  },
  {
   "cell_type": "code",
   "execution_count": null,
   "metadata": {
    "collapsed": false
   },
   "outputs": [],
   "source": [
    "nx.shortest_path_length(streets, 415774755, 5484235162)"
   ]
  },
  {
   "cell_type": "code",
   "execution_count": null,
   "metadata": {
    "collapsed": false
   },
   "outputs": [],
   "source": [
    "nx.shortest_path(streets, 415774755, 5484235162)"
   ]
  },
  {
   "cell_type": "code",
   "execution_count": null,
   "metadata": {
    "collapsed": false
   },
   "outputs": [],
   "source": [
    "~True"
   ]
  },
  {
   "cell_type": "code",
   "execution_count": null,
   "metadata": {
    "collapsed": false
   },
   "outputs": [],
   "source": [
    "False * False"
   ]
  },
  {
   "cell_type": "code",
   "execution_count": null,
   "metadata": {
    "collapsed": false
   },
   "outputs": [],
   "source": [
    "# troubleshooting: node has no suitability\n",
    "streets_freq = ox.graph_from_point((51.5223019,-0.1107007), distance=1000/1.75)\n",
    "streets.nodes[1159495478]\n",
    "# what are its neighbors like?\n",
    "for neighbor in nx.all_neighbors(streets, 1159495478):\n",
    "    print(neighbor)"
   ]
  },
  {
   "cell_type": "code",
   "execution_count": null,
   "metadata": {
    "collapsed": false
   },
   "outputs": [],
   "source": [
    "n = []\n",
    "for neighbor in nx.all_neighbors(streets, 1159495421):\n",
    "    n.append(neighbor)"
   ]
  },
  {
   "cell_type": "code",
   "execution_count": null,
   "metadata": {
    "collapsed": false
   },
   "outputs": [],
   "source": [
    "n"
   ]
  },
  {
   "cell_type": "code",
   "execution_count": null,
   "metadata": {
    "collapsed": false
   },
   "outputs": [],
   "source": [
    "len(set(n))"
   ]
  },
  {
   "cell_type": "code",
   "execution_count": null,
   "metadata": {
    "collapsed": false
   },
   "outputs": [],
   "source": [
    "len(n)"
   ]
  },
  {
   "cell_type": "code",
   "execution_count": null,
   "metadata": {
    "collapsed": true
   },
   "outputs": [],
   "source": [
    "node = 1159495421\n",
    "neighbors = []\n",
    "for neighbor in nx.all_neighbors(streets, node):\n",
    "    neighbors.append(neighbor)"
   ]
  },
  {
   "cell_type": "code",
   "execution_count": null,
   "metadata": {
    "collapsed": false
   },
   "outputs": [],
   "source": [
    "print(neighbors)\n",
    "neighbors = list(set(neighbors))\n",
    "print(neighbors)"
   ]
  },
  {
   "cell_type": "code",
   "execution_count": null,
   "metadata": {
    "collapsed": false
   },
   "outputs": [],
   "source": [
    "for neighbor in neighbors:\n",
    "    print('------')\n",
    "    print(neighbors)\n",
    "    nneighbor = [neighbor for neighbor in nx.all_neighbors(streets, neighbor)]\n",
    "    print(nneighbor)\n",
    "    if len(set(nneighbor)) == 1:\n",
    "        print(\"removing {} from set of neighbors {}\".format(neighbor, nneighbor))\n",
    "        neighbors = [x for x in neighbors if x != nneighbor]\n",
    "    print(neighbors)"
   ]
  },
  {
   "cell_type": "code",
   "execution_count": null,
   "metadata": {
    "collapsed": false
   },
   "outputs": [],
   "source": [
    "# where is the problem\n",
    "problem_route = [11546253, 18670874,25497664,25497878,877245092,1159495421]\n",
    "streets = ox.graph_from_point((51.5223019,-0.1107007), distance=1000/1.75)\n",
    "fig, ax = ox.plot_graph_route(streets, problem_route, node_size=0)"
   ]
  },
  {
   "cell_type": "code",
   "execution_count": null,
   "metadata": {
    "collapsed": false
   },
   "outputs": [],
   "source": [
    "type(2) == int"
   ]
  },
  {
   "cell_type": "code",
   "execution_count": null,
   "metadata": {
    "collapsed": false
   },
   "outputs": [],
   "source": [
    "b = [1,2,3,4,5,6,7,8]\n",
    "b.pop(1)\n",
    "b"
   ]
  },
  {
   "cell_type": "code",
   "execution_count": null,
   "metadata": {
    "collapsed": false
   },
   "outputs": [],
   "source": [
    "b.pop([2,3])"
   ]
  },
  {
   "cell_type": "code",
   "execution_count": null,
   "metadata": {
    "collapsed": false
   },
   "outputs": [],
   "source": [
    "b.extend([2,3])\n",
    "b"
   ]
  },
  {
   "cell_type": "code",
   "execution_count": null,
   "metadata": {
    "collapsed": true
   },
   "outputs": [],
   "source": [
    "b = []\n",
    "b.extend([2,3])"
   ]
  },
  {
   "cell_type": "code",
   "execution_count": null,
   "metadata": {
    "collapsed": false
   },
   "outputs": [],
   "source": [
    "0 + None"
   ]
  },
  {
   "cell_type": "code",
   "execution_count": null,
   "metadata": {
    "collapsed": false
   },
   "outputs": [],
   "source": [
    "b.extend(5)"
   ]
  },
  {
   "cell_type": "code",
   "execution_count": null,
   "metadata": {
    "collapsed": true
   },
   "outputs": [],
   "source": [
    "streets = ox.graph_from_point((51.5223019,-0.1107007), distance=1000/1.75)"
   ]
  },
  {
   "cell_type": "code",
   "execution_count": null,
   "metadata": {
    "collapsed": false
   },
   "outputs": [],
   "source": [
    "streets.nodes"
   ]
  },
  {
   "cell_type": "code",
   "execution_count": null,
   "metadata": {
    "collapsed": false
   },
   "outputs": [],
   "source": [
    "nx.shortest_path_length(streets, 13799043, 3085109082, 'length')"
   ]
  },
  {
   "cell_type": "code",
   "execution_count": null,
   "metadata": {
    "collapsed": false
   },
   "outputs": [],
   "source": [
    "nx.shortest_path_length(streets, 13799043, 3085109082)"
   ]
  },
  {
   "cell_type": "code",
   "execution_count": null,
   "metadata": {
    "collapsed": false
   },
   "outputs": [],
   "source": [
    "0 < 5 < 10"
   ]
  },
  {
   "cell_type": "markdown",
   "metadata": {},
   "source": [
    "## Troubleshooting\n"
   ]
  },
  {
   "cell_type": "code",
   "execution_count": null,
   "metadata": {
    "collapsed": true
   },
   "outputs": [],
   "source": [
    "import osmnx as ox\n",
    "import networkx as nx\n",
    "%matplotlib inline\n",
    "ox.config(log_file=True, log_console=True, use_cache=True)"
   ]
  },
  {
   "cell_type": "code",
   "execution_count": null,
   "metadata": {
    "collapsed": false
   },
   "outputs": [],
   "source": [
    "# read in gpx, view resultant frequency dictionary\n",
    "folder = \"/Users/heidihurst/Documents/UK/ucl-gis/ucl_msc/term2/networks/alltrax\"\n",
    "freq = ox.freq_from_folder(folder,npoints=250)\n",
    "print(freq)"
   ]
  },
  {
   "cell_type": "code",
   "execution_count": null,
   "metadata": {
    "collapsed": false
   },
   "outputs": [],
   "source": [
    "# create 1 km route starting from (51.5208513, -0.1148912)\n",
    "# 51.5223019,-0.1107007\n",
    "newroute_freq = ox.generate_route(51.5223019,-0.1107007, 5)"
   ]
  },
  {
   "cell_type": "code",
   "execution_count": null,
   "metadata": {
    "collapsed": false,
    "scrolled": true
   },
   "outputs": [],
   "source": [
    "# visualize route overlaid on city map\n",
    "streets_freq = ox.graph_from_point((51.5223019,-0.1107007), distance=5000/1.75, network_type='walk')\n",
    "#fig, ax = ox.plot_graph_route(streets_freq, newroute_freq, node_size=0)"
   ]
  },
  {
   "cell_type": "code",
   "execution_count": null,
   "metadata": {
    "collapsed": true
   },
   "outputs": [],
   "source": [
    "newroute_freq"
   ]
  },
  {
   "cell_type": "markdown",
   "metadata": {},
   "source": [
    "## Interactive Plotting\n",
    "http://nbviewer.jupyter.org/github/python-visualization/folium/blob/master/examples/Heatmap.ipynb"
   ]
  },
  {
   "cell_type": "code",
   "execution_count": null,
   "metadata": {
    "collapsed": false
   },
   "outputs": [],
   "source": [
    "graph_map = ox.plot_route_folium(streets_freq, newroute_freq)"
   ]
  },
  {
   "cell_type": "code",
   "execution_count": null,
   "metadata": {
    "collapsed": false
   },
   "outputs": [],
   "source": [
    "streets_freq.edges"
   ]
  },
  {
   "cell_type": "code",
   "execution_count": null,
   "metadata": {
    "collapsed": true
   },
   "outputs": [],
   "source": [
    "small_example = ox.graph_from_point((51.5223019,-0.1107007), distance=500)"
   ]
  },
  {
   "cell_type": "code",
   "execution_count": null,
   "metadata": {
    "collapsed": false
   },
   "outputs": [],
   "source": [
    "small_example.edges"
   ]
  },
  {
   "cell_type": "code",
   "execution_count": null,
   "metadata": {
    "collapsed": false
   },
   "outputs": [],
   "source": [
    "for edge in small_example.edges:\n",
    "    print(edge)"
   ]
  },
  {
   "cell_type": "code",
   "execution_count": null,
   "metadata": {
    "collapsed": false
   },
   "outputs": [],
   "source": [
    "e1 = small_example.edges[1]"
   ]
  },
  {
   "cell_type": "code",
   "execution_count": null,
   "metadata": {
    "collapsed": false
   },
   "outputs": [],
   "source": [
    "small_example.edges(data='oneway', keys=False)"
   ]
  },
  {
   "cell_type": "code",
   "execution_count": null,
   "metadata": {
    "collapsed": false
   },
   "outputs": [],
   "source": [
    "x = [n for n in small_example.edges(data='oneway', keys=False) if not n[-1]]"
   ]
  },
  {
   "cell_type": "code",
   "execution_count": null,
   "metadata": {
    "collapsed": false
   },
   "outputs": [],
   "source": [
    "y = [n for n in small_example.edges(data='oneway', keys=True) if n[-1]]"
   ]
  },
  {
   "cell_type": "code",
   "execution_count": null,
   "metadata": {
    "collapsed": false
   },
   "outputs": [],
   "source": [
    "z = [n for n in small_example.edges(data=True, keys=True) if n[-1]]\n",
    "print(z)"
   ]
  },
  {
   "cell_type": "code",
   "execution_count": null,
   "metadata": {
    "collapsed": false
   },
   "outputs": [],
   "source": [
    "small_example.get_edge_data(*(2228273, 110124, 0))"
   ]
  },
  {
   "cell_type": "code",
   "execution_count": null,
   "metadata": {
    "collapsed": false
   },
   "outputs": [],
   "source": [
    "small_example[1399290769][1953096780][0]['bearing']"
   ]
  },
  {
   "cell_type": "code",
   "execution_count": null,
   "metadata": {
    "collapsed": false
   },
   "outputs": [],
   "source": [
    "# add bearings\n",
    "ox.add_edge_bearings(small_example)\n",
    "e = small_example.out_edges(iter([1399290769]), data=True)"
   ]
  },
  {
   "cell_type": "code",
   "execution_count": null,
   "metadata": {
    "collapsed": false
   },
   "outputs": [],
   "source": [
    "for edge in e:\n",
    "    print(edge)"
   ]
  },
  {
   "cell_type": "code",
   "execution_count": null,
   "metadata": {
    "collapsed": false
   },
   "outputs": [],
   "source": [
    "small_example[*(1942702258, 1942702275)]"
   ]
  },
  {
   "cell_type": "code",
   "execution_count": null,
   "metadata": {
    "collapsed": false
   },
   "outputs": [],
   "source": [
    "k = *(1942702258, 1942702275)"
   ]
  },
  {
   "cell_type": "code",
   "execution_count": null,
   "metadata": {
    "collapsed": false
   },
   "outputs": [],
   "source": [
    "x = [1,2,3,4,5,6,7,8,9]\n",
    "p = [n/sum(x) for n in x]"
   ]
  },
  {
   "cell_type": "code",
   "execution_count": null,
   "metadata": {
    "collapsed": false
   },
   "outputs": [],
   "source": [
    "import numpy as np\n"
   ]
  },
  {
   "cell_type": "code",
   "execution_count": null,
   "metadata": {
    "collapsed": false
   },
   "outputs": [],
   "source": [
    "np.random.choice(x, 1, p)[0]"
   ]
  },
  {
   "cell_type": "code",
   "execution_count": null,
   "metadata": {
    "collapsed": false
   },
   "outputs": [],
   "source": [
    "range(5)"
   ]
  },
  {
   "cell_type": "code",
   "execution_count": null,
   "metadata": {
    "collapsed": false
   },
   "outputs": [],
   "source": [
    "list(range(5))"
   ]
  },
  {
   "cell_type": "markdown",
   "metadata": {
    "collapsed": true
   },
   "source": [
    "### Network Node Stats\n",
    "Want information to "
   ]
  },
  {
   "cell_type": "code",
   "execution_count": null,
   "metadata": {
    "collapsed": false
   },
   "outputs": [],
   "source": [
    "not False"
   ]
  },
  {
   "cell_type": "code",
   "execution_count": null,
   "metadata": {
    "collapsed": false
   },
   "outputs": [],
   "source": [
    "1*(not True)"
   ]
  },
  {
   "cell_type": "markdown",
   "metadata": {},
   "source": [
    "### Plotting Examples"
   ]
  },
  {
   "cell_type": "code",
   "execution_count": null,
   "metadata": {
    "collapsed": true
   },
   "outputs": [],
   "source": [
    "\n",
    "graph_map = ox.plot_graph_folium(streets, edge_width=2)"
   ]
  },
  {
   "cell_type": "code",
   "execution_count": null,
   "metadata": {
    "collapsed": true
   },
   "outputs": [],
   "source": [
    "# save as html file then display map as an iframe\n",
    "filepath = 'data/graph.html'\n",
    "graph_map.save(filepath)\n",
    "IFrame(filepath, width=600, height=500)"
   ]
  },
  {
   "cell_type": "code",
   "execution_count": null,
   "metadata": {
    "collapsed": true
   },
   "outputs": [],
   "source": [
    "streets = ox.graph_from_point((51.5208513, -0.1148912), distance=1000/1.75, network_type='walk')"
   ]
  },
  {
   "cell_type": "code",
   "execution_count": null,
   "metadata": {
    "collapsed": false
   },
   "outputs": [],
   "source": [
    "ox.simplify_graph(streets)"
   ]
  },
  {
   "cell_type": "code",
   "execution_count": null,
   "metadata": {
    "collapsed": true
   },
   "outputs": [],
   "source": [
    "bob = None"
   ]
  },
  {
   "cell_type": "code",
   "execution_count": null,
   "metadata": {
    "collapsed": true
   },
   "outputs": [],
   "source": [
    "if bob:\n",
    "    print('bob')"
   ]
  },
  {
   "cell_type": "code",
   "execution_count": null,
   "metadata": {
    "collapsed": true
   },
   "outputs": [],
   "source": [
    "def no_duplicates(route):\n",
    "    for i in range(len(route)-2):\n",
    "        if route[i] == route[i+1]:\n",
    "            del route[i]\n",
    "    return route"
   ]
  },
  {
   "cell_type": "code",
   "execution_count": null,
   "metadata": {
    "collapsed": false
   },
   "outputs": [],
   "source": [
    "ox.basic_stats(streets)"
   ]
  },
  {
   "cell_type": "code",
   "execution_count": null,
   "metadata": {
    "collapsed": false
   },
   "outputs": [],
   "source": [
    "streets.nodes[5466793987]['y']"
   ]
  },
  {
   "cell_type": "code",
   "execution_count": null,
   "metadata": {
    "collapsed": false
   },
   "outputs": [],
   "source": [
    "import time"
   ]
  },
  {
   "cell_type": "code",
   "execution_count": null,
   "metadata": {
    "collapsed": false
   },
   "outputs": [],
   "source": [
    "time.time()"
   ]
  },
  {
   "cell_type": "code",
   "execution_count": null,
   "metadata": {
    "collapsed": false
   },
   "outputs": [],
   "source": [
    "time.time()"
   ]
  },
  {
   "cell_type": "code",
   "execution_count": null,
   "metadata": {
    "collapsed": false
   },
   "outputs": [],
   "source": [
    "help(folium.Icon)"
   ]
  },
  {
   "cell_type": "code",
   "execution_count": null,
   "metadata": {
    "collapsed": true
   },
   "outputs": [],
   "source": [
    "import folium"
   ]
  },
  {
   "cell_type": "code",
   "execution_count": null,
   "metadata": {
    "collapsed": false
   },
   "outputs": [],
   "source": [
    "help(IFrame)"
   ]
  },
  {
   "cell_type": "code",
   "execution_count": null,
   "metadata": {
    "collapsed": true
   },
   "outputs": [],
   "source": [
    "import numpy as np"
   ]
  },
  {
   "cell_type": "code",
   "execution_count": null,
   "metadata": {
    "collapsed": false
   },
   "outputs": [],
   "source": [
    "prev_bearing_diff = {}\n",
    "for i in range(10):\n",
    "    prev_bearing_diff[(i*18, (i+1)*18)] = 10-i"
   ]
  },
  {
   "cell_type": "code",
   "execution_count": null,
   "metadata": {
    "collapsed": false
   },
   "outputs": [],
   "source": [
    "prev_bearing_diff"
   ]
  },
  {
   "cell_type": "code",
   "execution_count": null,
   "metadata": {
    "collapsed": false
   },
   "outputs": [],
   "source": [
    "int(np.interp(0,[0,180],[10,1]))"
   ]
  },
  {
   "cell_type": "code",
   "execution_count": null,
   "metadata": {
    "collapsed": false
   },
   "outputs": [],
   "source": [
    "abs(3-6)"
   ]
  },
  {
   "cell_type": "code",
   "execution_count": null,
   "metadata": {
    "collapsed": false
   },
   "outputs": [],
   "source": [
    "attributes = {}\n",
    "attributes['frequency'] = 8"
   ]
  },
  {
   "cell_type": "code",
   "execution_count": null,
   "metadata": {
    "collapsed": true
   },
   "outputs": [],
   "source": [
    "freq = 10 if attributes['frequency'] > 0 else 1"
   ]
  },
  {
   "cell_type": "code",
   "execution_count": null,
   "metadata": {
    "collapsed": false
   },
   "outputs": [],
   "source": [
    "freq"
   ]
  },
  {
   "cell_type": "code",
   "execution_count": null,
   "metadata": {
    "collapsed": true
   },
   "outputs": [],
   "source": []
  }
 ],
 "metadata": {
  "anaconda-cloud": {},
  "kernelspec": {
   "display_name": "Python [conda env:OSMNX]",
   "language": "python",
   "name": "conda-env-OSMNX-py"
  },
  "language_info": {
   "codemirror_mode": {
    "name": "ipython",
    "version": 3
   },
   "file_extension": ".py",
   "mimetype": "text/x-python",
   "name": "python",
   "nbconvert_exporter": "python",
   "pygments_lexer": "ipython3",
   "version": "3.6.5"
  }
 },
 "nbformat": 4,
 "nbformat_minor": 2
}
